{
 "cells": [
  {
   "cell_type": "code",
   "execution_count": 45,
   "id": "50cb9b94-47b3-411d-808e-ec29ba375d20",
   "metadata": {},
   "outputs": [],
   "source": [
    "import torch\n",
    "import torch.nn as nn\n",
    "from torch.nn import functional as F\n",
    "device = 'cuda' if torch.cuda.is_available() else 'cpu'\n",
    "block_size = 2**3\n",
    "batch_size = 2**2\n",
    "learning_rate = 3e-4\n",
    "max_epoch = int(1e4)\n",
    "eval_interval = 250\n",
    "dropout = 0.2"
   ]
  },
  {
   "cell_type": "code",
   "execution_count": 46,
   "id": "6dbedfcd-ee58-43b8-a8b0-9f91ed7488ad",
   "metadata": {},
   "outputs": [
    {
     "name": "stdout",
     "output_type": "stream",
     "text": [
      "['\\n', ' ', '!', '\"', '&', \"'\", '(', ')', '*', ',', '-', '.', '0', '1', '2', '3', '4', '5', '6', '7', '8', '9', ':', ';', '?', 'A', 'B', 'C', 'D', 'E', 'F', 'G', 'H', 'I', 'J', 'K', 'L', 'M', 'N', 'O', 'P', 'Q', 'R', 'S', 'T', 'U', 'V', 'W', 'X', 'Y', 'Z', '[', ']', '_', 'a', 'b', 'c', 'd', 'e', 'f', 'g', 'h', 'i', 'j', 'k', 'l', 'm', 'n', 'o', 'p', 'q', 'r', 's', 't', 'u', 'v', 'w', 'x', 'y', 'z', '\\ufeff']\n"
     ]
    }
   ],
   "source": [
    "with open(\"wizard_of_oz.txt\", 'r', encoding=\"utf-8\") as f:\n",
    "    text = f.read()\n",
    "chars = sorted(set(text))\n",
    "print(chars)\n",
    "vocab_size = len(chars)"
   ]
  },
  {
   "cell_type": "code",
   "execution_count": 47,
   "id": "19eff079-6a7f-40b9-8f9f-093a56bd7c3a",
   "metadata": {},
   "outputs": [
    {
     "name": "stdout",
     "output_type": "stream",
     "text": [
      "tensor([80,  1,  1, 28, 39, 42, 39, 44, 32, 49,  1, 25, 38, 28,  1, 44, 32, 29,\n",
      "         1, 47, 33, 50, 25, 42, 28,  1, 33, 38,  1, 39, 50,  0,  0,  1,  1, 26,\n",
      "        49,  0,  0,  1,  1, 36, 11,  1, 30, 42, 25, 38, 35,  1, 26, 25, 45, 37,\n",
      "         0,  0,  1,  1, 25, 45, 44, 32, 39, 42,  1, 39, 30,  1, 44, 32, 29,  1,\n",
      "        47, 33, 50, 25, 42, 28,  1, 39, 30,  1, 39, 50,  9,  1, 44, 32, 29,  1,\n",
      "        36, 25, 38, 28,  1, 39, 30,  1, 39, 50])\n"
     ]
    }
   ],
   "source": [
    "string_to_int = { ch:i for i,ch in enumerate(chars) }\n",
    "int_to_string = { i:ch for i,ch in enumerate(chars) }\n",
    "encode = lambda s: [string_to_int[c] for c in s]\n",
    "decode = lambda l: ''.join([int_to_string[i] for i in l])\n",
    "\n",
    "data = torch.tensor(encode(text), dtype=torch.long)\n",
    "print(data[:100])"
   ]
  },
  {
   "cell_type": "code",
   "execution_count": 48,
   "id": "6f300b49-63eb-457d-b52b-71bbf5b18f75",
   "metadata": {},
   "outputs": [
    {
     "name": "stdout",
     "output_type": "stream",
     "text": [
      "input:\n",
      "tensor([[ 1, 68, 67, 58,  0, 68, 59,  1],\n",
      "        [ 1, 33,  1, 76, 54, 67, 73, 58],\n",
      "        [71, 62, 58, 67, 57, 65, 78,  1],\n",
      "        [ 1, 73, 61, 58,  1, 65, 62, 73]], device='cuda:0')\n",
      "target:\n",
      "tensor([[68, 67, 58,  0, 68, 59,  1, 73],\n",
      "        [33,  1, 76, 54, 67, 73, 58, 57],\n",
      "        [62, 58, 67, 57, 65, 78,  1, 54],\n",
      "        [73, 61, 58,  1, 65, 62, 73, 73]], device='cuda:0')\n"
     ]
    }
   ],
   "source": [
    "n = int(0.8*len(data))\n",
    "train_data = data[:n]\n",
    "val_data = data[n:]\n",
    "\n",
    "def get_batch(split):\n",
    "    data = train_data if split ==\"train\" else val_data\n",
    "    ix = torch.randint(len(data) - block_size, (batch_size,))\n",
    "    \n",
    "    x = torch.stack([data[i:i+block_size] for i in ix])\n",
    "    y = torch.stack([data[i+1:i+block_size+1] for i in ix])\n",
    "    x, y = x.to(device), y.to(device)\n",
    "    return x,y\n",
    "\n",
    "x, y = get_batch('train')\n",
    "print('input:')\n",
    "print(x)\n",
    "print('target:')\n",
    "print(y)"
   ]
  },
  {
   "cell_type": "code",
   "execution_count": 49,
   "id": "e2a66158-1be4-4d93-ba49-dca5b64434ec",
   "metadata": {},
   "outputs": [],
   "source": [
    "@torch.no_grad()\n",
    "def estimate_loss():\n",
    "    out = {}\n",
    "    m.eval()\n",
    "    for split in ['train', 'val']:\n",
    "        losses = torch.zeros(eval_interval)\n",
    "        for k in range(eval_interval):\n",
    "            X, Y = get_batch(split)\n",
    "            logits, loss = m.forward(X,Y)\n",
    "            losses[k] = loss.item()\n",
    "        out[split] = losses.mean()\n",
    "    m.train()\n",
    "    return out"
   ]
  },
  {
   "cell_type": "code",
   "execution_count": 50,
   "id": "3d114612-b7fb-4051-8045-d45d6b7ff3c3",
   "metadata": {},
   "outputs": [
    {
     "name": "stdout",
     "output_type": "stream",
     "text": [
      "\n",
      "?7[0[fso1'\n",
      ";WeW?pH!lyWaRI0Xaxl2eMX3Btr1X0NJDI5e-OpGqW*uj75t5.!DGr﻿ryiuy]DdRq3&5cn)y?7P3﻿0CYg'9c\n",
      "[KEz4i\n",
      "!(kjEqo4Qv'!oAnKc\n",
      "q75pN!0NJJRS]URFVbU8YUx;tTx;W3'8!D4K9s7M 2n)yqEdUkG﻿cPFY*qWre4zL2(A!aWN3oNJ15c;:gsIN!PL&,Or:a5.exZI?pzOBla\n",
      "7\n",
      "Te[b)N!OKd*ZVDG_Q'p!)C3'EZ,Uk N*5ohn)8j8Je[tbrqo8cttF]l[C6_0;,\n",
      "7DKhXtrN**:iu,?lp]u-.TS*&n\"H[wQDGrE(F;WHA!IYmecle[,h,6P(t0RKV[MX24g;Q,'E\"OYWo8YXM:]w:CVzf]f SCG;uw;3'7P]at-ZVEHtrCmarXy[76Z99qYmCoF]DGbAAC.T\n",
      "S9(yi*9eW4wkAHK﻿rY(wzO37s1P;i!gDGJczO].;7nS[b:qRdYjqnDG.3hsh[b81H\n",
      "\n"
     ]
    }
   ],
   "source": [
    "class BigramLanguageModel(nn.Module):\n",
    "    def __init__(self, vocab_size):\n",
    "        super().__init__()\n",
    "\n",
    "        self.token_embedding_table = nn.Embedding(vocab_size, vocab_size)\n",
    "\n",
    "    def forward(self, idx, targets=None):\n",
    "        logits = self.token_embedding_table(idx)\n",
    "\n",
    "        if targets is None:\n",
    "            loss = None\n",
    "        else:\n",
    "            B, T, C = logits.shape\n",
    "            logits = logits.view(B*T, C)\n",
    "            targets = targets.view(B*T)\n",
    "            loss = F.cross_entropy(logits, targets)\n",
    "\n",
    "        return logits, loss\n",
    "\n",
    "    def generate(self, idx, max_new_tokens):\n",
    "        # index is (B, T) array of indices in the current context\n",
    "        for _ in range(max_new_tokens):\n",
    "            # get the predictions\n",
    "            logits, loss = self.forward(idx)\n",
    "            # focus only on the last time step\n",
    "            logits = logits[:, -1, :] # becomes (B, C)\n",
    "            # apply softmax to get probabilities\n",
    "            probs = F.softmax(logits, dim=-1) # (B,C)\n",
    "            # sample from the distribution\n",
    "            idx_next = torch.multinomial(probs, num_samples=1) # (B, 1)\n",
    "            # append sampled index to the running sequence\n",
    "            idx = torch.cat((idx, idx_next), dim=1) # (B, T+1)\n",
    "        return idx\n",
    "\n",
    "model = BigramLanguageModel(vocab_size)\n",
    "m = model.to(device)\n",
    "\n",
    "context = torch.zeros((1,1), dtype=torch.long, device=device)\n",
    "generated_chars = decode(m.generate(context, max_new_tokens=500)[0].tolist())\n",
    "print(generated_chars)"
   ]
  },
  {
   "cell_type": "code",
   "execution_count": 56,
   "id": "a621868c-5817-4198-9dbf-e09cd9f49f29",
   "metadata": {},
   "outputs": [
    {
     "name": "stdout",
     "output_type": "stream",
     "text": [
      "step: 0, train loss: 2.6826, val loss: 2.7054\n",
      "step: 250, train loss: 2.6744, val loss: 2.7136\n",
      "step: 500, train loss: 2.6777, val loss: 2.6941\n",
      "step: 750, train loss: 2.6705, val loss: 2.7089\n",
      "step: 1000, train loss: 2.6419, val loss: 2.7025\n",
      "step: 1250, train loss: 2.6330, val loss: 2.6917\n",
      "step: 1500, train loss: 2.6474, val loss: 2.6843\n",
      "step: 1750, train loss: 2.6078, val loss: 2.6705\n",
      "step: 2000, train loss: 2.6276, val loss: 2.6571\n",
      "step: 2250, train loss: 2.6121, val loss: 2.6804\n",
      "step: 2500, train loss: 2.6218, val loss: 2.6703\n",
      "step: 2750, train loss: 2.5997, val loss: 2.6552\n",
      "step: 3000, train loss: 2.5995, val loss: 2.6293\n",
      "step: 3250, train loss: 2.6066, val loss: 2.6588\n",
      "step: 3500, train loss: 2.6133, val loss: 2.6281\n",
      "step: 3750, train loss: 2.6096, val loss: 2.6251\n",
      "step: 4000, train loss: 2.6101, val loss: 2.6330\n",
      "step: 4250, train loss: 2.5970, val loss: 2.6290\n",
      "step: 4500, train loss: 2.5832, val loss: 2.6316\n",
      "step: 4750, train loss: 2.5687, val loss: 2.6320\n",
      "step: 5000, train loss: 2.5720, val loss: 2.6102\n",
      "step: 5250, train loss: 2.5670, val loss: 2.6179\n",
      "step: 5500, train loss: 2.5918, val loss: 2.6080\n",
      "step: 5750, train loss: 2.5600, val loss: 2.5893\n",
      "step: 6000, train loss: 2.5500, val loss: 2.6012\n",
      "step: 6250, train loss: 2.5551, val loss: 2.6105\n",
      "step: 6500, train loss: 2.5665, val loss: 2.5923\n",
      "step: 6750, train loss: 2.5580, val loss: 2.6178\n",
      "step: 7000, train loss: 2.5591, val loss: 2.5882\n",
      "step: 7250, train loss: 2.5707, val loss: 2.6216\n",
      "step: 7500, train loss: 2.5646, val loss: 2.5693\n",
      "step: 7750, train loss: 2.5643, val loss: 2.5992\n",
      "step: 8000, train loss: 2.5348, val loss: 2.5938\n",
      "step: 8250, train loss: 2.5391, val loss: 2.5982\n",
      "step: 8500, train loss: 2.5583, val loss: 2.5723\n",
      "step: 8750, train loss: 2.5123, val loss: 2.5811\n",
      "step: 9000, train loss: 2.5609, val loss: 2.5832\n",
      "step: 9250, train loss: 2.5377, val loss: 2.5720\n",
      "step: 9500, train loss: 2.5475, val loss: 2.5740\n",
      "step: 9750, train loss: 2.5030, val loss: 2.5682\n",
      "step: 9999, train loss: 2.5030, val loss: 2.5682\n"
     ]
    }
   ],
   "source": [
    "optimizer = torch.optim.AdamW(model.parameters(), lr=learning_rate)\n",
    "\n",
    "for epoch in range(max_epoch):\n",
    "\n",
    "    if epoch % eval_interval == 0:\n",
    "        losses = estimate_loss()\n",
    "        print(f\"step: {epoch}, train loss: {losses['train']:.4f}, val loss: {losses['val']:.4f}\")\n",
    "\n",
    "    # sample avbatch of data\n",
    "    xb, yb = get_batch('train')\n",
    "\n",
    "    # evaluate the loss\n",
    "    logits, loss = m.forward(xb, yb)\n",
    "    optimizer.zero_grad(set_to_none=True)\n",
    "    loss.backward()\n",
    "    optimizer.step()\n",
    "print(f\"step: {epoch}, train loss: {losses['train']:.4f}, val loss: {losses['val']:.4f}\")"
   ]
  },
  {
   "cell_type": "code",
   "execution_count": 57,
   "id": "c665fbae-91db-4e9e-8642-79e9325dd070",
   "metadata": {},
   "outputs": [
    {
     "name": "stdout",
     "output_type": "stream",
     "text": [
      "\n",
      "begs\n",
      "NFWis, ub hererdlculsFpsk resanq92k?j-Hace sore\n",
      "I t be bo. suthya caned mer eag thedendound he GXQqWerdepots JzWinde in\n",
      "\"\n",
      "vedy tethen ofrd theagik\n",
      "\"m. mo  himen lizqn t bormus hinuly, waswalirs.\n",
      "acilane d od wond ors 8dd uremm,  car, 'rn.rney.  pad foris.\n",
      "\"AQDised ts b,Bgrer h sir fu'ple, ofllen thed creroelo co ad:ared edod\n",
      "\n",
      "\n",
      "\n",
      "\"oofofun iere owls inisthepaserWh\n",
      "Tbe ssmad:veanvy67ccoimbyo opl byot theyolsth n  te in bblesit aitun, inogebry, ET43I\n",
      "he r, tt.\" ch.\n",
      "\n",
      "HLan\n",
      "or withigevqIC&chthese M\n"
     ]
    }
   ],
   "source": [
    "context = torch.zeros((1,1), dtype=torch.long, device=device)\n",
    "generated_chars = decode(m.generate(context, max_new_tokens=500)[0].tolist())\n",
    "print(generated_chars)"
   ]
  },
  {
   "cell_type": "code",
   "execution_count": null,
   "id": "76b5106b-c03d-4e3c-9a8f-f9bdee539460",
   "metadata": {},
   "outputs": [],
   "source": []
  }
 ],
 "metadata": {
  "kernelspec": {
   "display_name": "cuda-gpt",
   "language": "python",
   "name": "cuda"
  },
  "language_info": {
   "codemirror_mode": {
    "name": "ipython",
    "version": 3
   },
   "file_extension": ".py",
   "mimetype": "text/x-python",
   "name": "python",
   "nbconvert_exporter": "python",
   "pygments_lexer": "ipython3",
   "version": "3.11.7"
  }
 },
 "nbformat": 4,
 "nbformat_minor": 5
}
