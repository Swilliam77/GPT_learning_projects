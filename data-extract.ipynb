{
 "cells": [
  {
   "cell_type": "code",
   "execution_count": null,
   "id": "a30207f6-c4de-4d49-9e7a-2ddc4a678876",
   "metadata": {},
   "outputs": [],
   "source": [
    "import os\n",
    "import lzma\n",
    "from tqdm import tqdm\n",
    "\n",
    "def xz_files_in_dir(directory):\n",
    "    files = []\n",
    "    for filename in os.listdir(directory):\n",
    "        if filename.endswith(\".xz\") and os.path.isfile(os.path.join(directory, filename)):\n",
    "            files.append(filename)\n",
    "    return files\n",
    "\n",
    "folder_path = \"C:/Users/willi/Python Testing/fcc-gpt-course/openwebtext\"\n",
    "output_file = \"output{}.txt\"\n",
    "vocab_file = \"vocab.txt\"\n",
    "split_files = int(input(\"How many files would you like to split this into? \"))\n",
    "\n",
    "files = xz_files_in_dir(folder_path)\n",
    "\n",
    "total_files = len(files)\n",
    "\n",
    "max_count = total_files // split_files if split_files != 0 else total_files\n",
    "\n",
    "vocab = set()\n",
    "\n",
    "for i in range(split_files):\n",
    "    with open(output_file.format(i), \"w\", encoding=\"utf-8\") as outfile:\n",
    "        for count, filename in enumerate(tqdm(files[:max_count], total=max_count)):\n",
    "            if count >= max_count:\n",
    "                break\n",
    "            file_path = os.path.join(folder_path, filename)\n",
    "            with lzma.open(file_path, \"rt\", encoding=\"utf-8\") as infile:\n",
    "                text = infile.read()\n",
    "                outfile.write(text)\n",
    "                characters = set(text)\n",
    "                vocab.update(characters)\n",
    "        files = files[max_count:]"
   ]
  }
 ],
 "metadata": {
  "kernelspec": {
   "display_name": "cuda-gpt",
   "language": "python",
   "name": "cuda"
  },
  "language_info": {
   "codemirror_mode": {
    "name": "ipython",
    "version": 3
   },
   "file_extension": ".py",
   "mimetype": "text/x-python",
   "name": "python",
   "nbconvert_exporter": "python",
   "pygments_lexer": "ipython3",
   "version": "3.11.7"
  }
 },
 "nbformat": 4,
 "nbformat_minor": 5
}
